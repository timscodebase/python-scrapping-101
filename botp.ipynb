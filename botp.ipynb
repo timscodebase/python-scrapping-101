{
 "cells": [
  {
   "cell_type": "code",
   "execution_count": 2,
   "metadata": {},
   "outputs": [],
   "source": [
    "!python -m venv .venv"
   ]
  },
  {
   "cell_type": "code",
   "execution_count": 3,
   "metadata": {},
   "outputs": [
    {
     "name": "stdout",
     "output_type": "stream",
     "text": [
      "Requirement already satisfied: pip in ./.venv/lib/python3.12/site-packages (24.0)\n",
      "Requirement already satisfied: install in ./.venv/lib/python3.12/site-packages (1.3.5)\n",
      "Requirement already satisfied: beautifulsoup4 in ./.venv/lib/python3.12/site-packages (4.12.3)\n",
      "Requirement already satisfied: soupsieve>1.2 in ./.venv/lib/python3.12/site-packages (from beautifulsoup4) (2.5)\n",
      "Note: you may need to restart the kernel to use updated packages.\n",
      "Requirement already satisfied: requests in ./.venv/lib/python3.12/site-packages (2.31.0)\n",
      "Requirement already satisfied: charset-normalizer<4,>=2 in ./.venv/lib/python3.12/site-packages (from requests) (3.3.2)\n",
      "Requirement already satisfied: idna<4,>=2.5 in ./.venv/lib/python3.12/site-packages (from requests) (3.7)\n",
      "Requirement already satisfied: urllib3<3,>=1.21.1 in ./.venv/lib/python3.12/site-packages (from requests) (2.2.1)\n",
      "Requirement already satisfied: certifi>=2017.4.17 in ./.venv/lib/python3.12/site-packages (from requests) (2024.2.2)\n",
      "Note: you may need to restart the kernel to use updated packages.\n",
      "Requirement already satisfied: pandas in ./.venv/lib/python3.12/site-packages (2.2.2)\n",
      "Requirement already satisfied: numpy>=1.26.0 in ./.venv/lib/python3.12/site-packages (from pandas) (1.26.4)\n",
      "Requirement already satisfied: python-dateutil>=2.8.2 in ./.venv/lib/python3.12/site-packages (from pandas) (2.9.0.post0)\n",
      "Requirement already satisfied: pytz>=2020.1 in ./.venv/lib/python3.12/site-packages (from pandas) (2024.1)\n",
      "Requirement already satisfied: tzdata>=2022.7 in ./.venv/lib/python3.12/site-packages (from pandas) (2024.1)\n",
      "Requirement already satisfied: six>=1.5 in ./.venv/lib/python3.12/site-packages (from python-dateutil>=2.8.2->pandas) (1.16.0)\n",
      "Note: you may need to restart the kernel to use updated packages.\n"
     ]
    }
   ],
   "source": [
    "%pip install pip install beautifulsoup4\n",
    "%pip install requests\n",
    "%pip install pandas"
   ]
  },
  {
   "cell_type": "code",
   "execution_count": 4,
   "metadata": {},
   "outputs": [],
   "source": [
    "from bs4 import BeautifulSoup\n",
    "import requests\n",
    "import pandas as pd\n",
    "import time"
   ]
  },
  {
   "cell_type": "code",
   "execution_count": 5,
   "metadata": {},
   "outputs": [],
   "source": [
    "response = requests.get('https://news.ycombinator.com/newest').text\n",
    "soup = BeautifulSoup(response, 'html.parser')\n",
    "\n",
    "posts = soup.find_all('span', class_ = 'titleline')\n",
    "scores = soup.find_all('span', class_ = 'score')\n",
    "more = soup.find('a', class_ = 'morelink')\n",
    "\n",
    "post_list = []\n",
    "\n",
    "# get more posts\n",
    "while more:\n",
    "  response = requests.get('https://news.ycombinator.com/' + more['href']).text\n",
    "  soup = BeautifulSoup(response, 'html.parser')\n",
    "\n",
    "  posts = soup.find_all('span', class_ = 'titleline')\n",
    "  scores = soup.find_all('span', class_ = 'score')\n",
    "  more = soup.find('a', class_ = 'morelink')\n",
    "\n",
    "  for post, score in zip(posts, scores):\n",
    "    post_text = post.text\n",
    "    post_href = post.a['href']\n",
    "    post_votes = score.text\n",
    "    post_list.append([post_text, post_href, post_votes])\n",
    "\n",
    "# export to csv\n",
    "df = pd.DataFrame(post_list, columns = ['Text', 'Link', 'Votes'])\n",
    "df.to_csv('HackerNews_' + str(time.time()) + '.csv', index = False)"
   ]
  },
  {
   "cell_type": "code",
   "execution_count": 6,
   "metadata": {},
   "outputs": [
    {
     "name": "stdout",
     "output_type": "stream",
     "text": [
      "update_1715304976.136935.csv 91\n"
     ]
    }
   ],
   "source": [
    "# Find the latest two *.cvs files in the current directory and print their names.\n",
    "import glob\n",
    "import os\n",
    "\n",
    "files = glob.glob('*.csv')\n",
    "files.sort(key = os.path.getmtime)\n",
    "\n",
    "if len(files) < 2:\n",
    "    print('Not enough files found.')\n",
    "    exit()\n",
    "\n",
    "with open(files[-2], 'r') as t1, open(files[-1], 'r') as t2:\n",
    "    file_one = t1.readlines()\n",
    "    file_two = t2.readlines()\n",
    "\n",
    "with open('update_' + str(time.time()) + '.csv', 'w') as outFile:\n",
    "    for line in file_two:\n",
    "        if line not in file_one:\n",
    "            outFile.write(line)\n",
    "\n",
    "diff_files = glob.glob('update_*.csv')\n",
    "diff_files.sort(key = os.path.getmtime)\n",
    "\n",
    "print(diff_files[-1], len(open(diff_files[-1]).readlines()))\n"
   ]
  }
 ],
 "metadata": {
  "kernelspec": {
   "display_name": ".venv",
   "language": "python",
   "name": "python3"
  },
  "language_info": {
   "codemirror_mode": {
    "name": "ipython",
    "version": 3
   },
   "file_extension": ".py",
   "mimetype": "text/x-python",
   "name": "python",
   "nbconvert_exporter": "python",
   "pygments_lexer": "ipython3",
   "version": "3.12.3"
  }
 },
 "nbformat": 4,
 "nbformat_minor": 2
}
